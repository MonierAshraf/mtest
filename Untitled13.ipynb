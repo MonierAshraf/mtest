{
 "cells": [
  {
   "cell_type": "code",
   "execution_count": 1,
   "id": "e8c528d3",
   "metadata": {},
   "outputs": [
    {
     "name": "stdout",
     "output_type": "stream",
     "text": [
      "  start_date   end_date  total_amount  order_count\n",
      "0 2023-01-01 2023-01-02           250            2\n",
      "0 2023-01-04 2023-01-06           450            2\n"
     ]
    },
    {
     "name": "stderr",
     "output_type": "stream",
     "text": [
      "C:\\Users\\MonierAshraf\\AppData\\Local\\Temp\\ipykernel_31028\\665002018.py:28: DeprecationWarning: DataFrameGroupBy.apply operated on the grouping columns. This behavior is deprecated, and in a future version of pandas the grouping columns will be excluded from the operation. Either pass `include_groups=False` to exclude the groupings or explicitly select the grouping columns after groupby to silence this warning.\n",
      "  result_df = df.groupby(partition_by, group_keys=False).apply(apply_pattern_and_measures)\n"
     ]
    }
   ],
   "source": [
    "import pandas as pd\n",
    "\n",
    "def match_recognize(df, partition_by=None, order_by=None, pattern=None, measures=None):\n",
    "    \"\"\"\n",
    "    Enhanced match_recognize function for pandas DataFrames to simulate SQL MATCH_RECOGNIZE functionality.\n",
    "    \"\"\"\n",
    "    # Ensure partition_by and order_by are list-like\n",
    "    if partition_by and not isinstance(partition_by, list):\n",
    "        partition_by = [partition_by]\n",
    "    if order_by and not isinstance(order_by, list):\n",
    "        order_by = [order_by]\n",
    "\n",
    "    # Sort DataFrame\n",
    "    if partition_by and order_by:\n",
    "        df = df.sort_values(by=partition_by + order_by)\n",
    "    elif order_by:\n",
    "        df = df.sort_values(by=order_by)\n",
    "\n",
    "    # Apply pattern detection logic and compute measures\n",
    "    def apply_pattern_and_measures(group):\n",
    "        if pattern:\n",
    "            pattern_matches = pattern(group)\n",
    "            if measures:\n",
    "                return measures(group[pattern_matches])\n",
    "        return pd.DataFrame()  # Return empty DataFrame if no matches\n",
    "\n",
    "    if partition_by:\n",
    "        result_df = df.groupby(partition_by, group_keys=False).apply(apply_pattern_and_measures)\n",
    "    else:\n",
    "        result_df = apply_pattern_and_measures(df)\n",
    "\n",
    "    return result_df\n",
    "\n",
    "# Define your pattern detection and measures calculation\n",
    "def pattern(group):\n",
    "    return group['order_amount'] > 0\n",
    "\n",
    "def measures(group):\n",
    "    return pd.DataFrame({\n",
    "        'start_date': group['order_date'].min(),\n",
    "        'end_date': group['order_date'].max(),\n",
    "        'total_amount': group['order_amount'].sum(),\n",
    "        'order_count': len(group)\n",
    "    }, index=[0])\n",
    "\n",
    "# Example DataFrame\n",
    "df = pd.DataFrame({\n",
    "    'order_date': pd.date_range(start='2023-01-01', periods=6, freq='D'),\n",
    "    'customer_name': ['Alice']*3 + ['Bob']*3,\n",
    "    'order_amount': [100, 150, 0, 200, 0, 250],\n",
    "})\n",
    "\n",
    "# Apply the match_recognize function\n",
    "matched_df = match_recognize(df, partition_by='customer_name', order_by='order_date', pattern=pattern, measures=measures)\n",
    "\n",
    "print(matched_df)\n"
   ]
  },
  {
   "cell_type": "code",
   "execution_count": null,
   "id": "43bf3ca7",
   "metadata": {},
   "outputs": [],
   "source": []
  }
 ],
 "metadata": {
  "kernelspec": {
   "display_name": "Python 3 (ipykernel)",
   "language": "python",
   "name": "python3"
  },
  "language_info": {
   "codemirror_mode": {
    "name": "ipython",
    "version": 3
   },
   "file_extension": ".py",
   "mimetype": "text/x-python",
   "name": "python",
   "nbconvert_exporter": "python",
   "pygments_lexer": "ipython3",
   "version": "3.11.5"
  }
 },
 "nbformat": 4,
 "nbformat_minor": 5
}
